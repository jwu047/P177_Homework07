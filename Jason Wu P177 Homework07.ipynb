{
 "cells": [
  {
   "cell_type": "markdown",
   "metadata": {},
   "source": [
    "# Homework 7: Markov Chain Monte Carlo\n",
    "\n",
    "Physics 177, Spring 2017 (Prof. Tanedo)  \n",
    "Due: Wednesday, May 31    \n",
    "\n",
    "This homework will be updated over the weekend with specific goals if people complete the Extra Credit below.\n",
    "\n",
    "*Jason Wu*"
   ]
  },
  {
   "cell_type": "markdown",
   "metadata": {
    "collapsed": true
   },
   "source": [
    "For this homework, please complete all of the example code that you were tasked with exploring during Professor Hai-Bo Yu's lecture on Thursday, May 25."
   ]
  },
  {
   "cell_type": "code",
   "execution_count": null,
   "metadata": {
    "collapsed": true
   },
   "outputs": [],
   "source": [
    "from math import sqrt,exp\n",
    "from numpy import empty\n",
    "from random import random,randrange\n",
    "from visual import sphere,curve,display\n",
    "\n",
    "N = 25\n",
    "R = 0.02\n",
    "Tmax = 10.0\n",
    "Tmin = 1e-3\n",
    "tau = 1e4\n",
    "\n",
    "# Function to calculate the magnitude of a vector\n",
    "def mag(x):\n",
    "    return sqrt(x[0]**2+x[1]**2)\n",
    "\n",
    "# Function to calculate the total length of the tour\n",
    "def distance():\n",
    "    s = 0.0\n",
    "    for i in range(N):\n",
    "        s += mag(r[i+1]-r[i])\n",
    "    return s\n",
    "\n",
    "# Choose N city locations and calculate the initial distance\n",
    "r = empty([N+1,2],float)\n",
    "for i in range(N):\n",
    "    r[i,0] = random()\n",
    "    r[i,1] = random()\n",
    "r[N] = r[0]\n",
    "D = distance()\n",
    "\n",
    "# Set up the graphics\n",
    "display(center=[0.5,0.5])\n",
    "for i in range(N):\n",
    "    sphere(pos=r[i],radius=R)\n",
    "l = curve(pos=r,radius=R/2)\n",
    "\n",
    "# Main loop\n",
    "t = 0\n",
    "T = Tmax\n",
    "while T>Tmin:\n",
    "\n",
    "    # Cooling\n",
    "    t += 1\n",
    "    T = Tmax*exp(-t/tau)\n",
    "\n",
    "    # Update the visualization every 100 moves\n",
    "    if t%100==0:\n",
    "        l.pos = r\n",
    "\n",
    "    # Choose two cities to swap and make sure they are distinct\n",
    "    i,j = randrange(1,N),randrange(1,N)\n",
    "    while i==j:\n",
    "        i,j = randrange(1,N),randrange(1,N)\n",
    "\n",
    "    # Swap them and calculate the change in distance\n",
    "    oldD = D\n",
    "    r[i,0],r[j,0] = r[j,0],r[i,0]\n",
    "    r[i,1],r[j,1] = r[j,1],r[i,1]\n",
    "    D = distance()\n",
    "    deltaD = D - oldD\n",
    "\n",
    "    # If the move is rejected, swap them back again\n",
    "    if random()>exp(-deltaD/T):\n",
    "        r[i,0],r[j,0] = r[j,0],r[i,0]\n",
    "        r[i,1],r[j,1] = r[j,1],r[i,1]\n",
    "        D = oldD"
   ]
  },
  {
   "cell_type": "markdown",
   "metadata": {},
   "source": [
    "## Extra credit\n",
    "\n",
    "** This extra credit is available to the first few to do this, due Saturday May 27 **\n",
    "\n",
    "For extra credit, enumerate the exercises required for this homework. In other words: fill in this problem set with specific questions.\n",
    "\n",
    "Assuming that you have forked the Homework 7 repository, upload the problem set (with no solutions yet) to your GitHub and initiate a **pull request**. This will send a notice to Prof. Tanedo to update the Homework 7 master branch for everyone. \n",
    "\n",
    "After you have done this, you may fill in the solutions to your problem set as usual. "
   ]
  },
  {
   "cell_type": "code",
   "execution_count": null,
   "metadata": {
    "collapsed": true
   },
   "outputs": [],
   "source": []
  }
 ],
 "metadata": {
  "kernelspec": {
   "display_name": "Python 3",
   "language": "python",
   "name": "python3"
  },
  "language_info": {
   "codemirror_mode": {
    "name": "ipython",
    "version": 3
   },
   "file_extension": ".py",
   "mimetype": "text/x-python",
   "name": "python",
   "nbconvert_exporter": "python",
   "pygments_lexer": "ipython3",
   "version": "3.6.0"
  }
 },
 "nbformat": 4,
 "nbformat_minor": 2
}
